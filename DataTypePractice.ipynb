{
 "cells": [
  {
   "cell_type": "code",
   "execution_count": 1,
   "id": "exempt-robertson",
   "metadata": {},
   "outputs": [
    {
     "data": {
      "text/plain": [
       "Intitializing Scala interpreter ..."
      ]
     },
     "metadata": {},
     "output_type": "display_data"
    },
    {
     "data": {
      "text/plain": [
       "Spark Web UI available at http://ryans-mbp-8:4040\n",
       "SparkContext available as 'sc' (version = 2.4.7, master = local[*], app id = local-1611876648081)\n",
       "SparkSession available as 'spark'\n"
      ]
     },
     "metadata": {},
     "output_type": "display_data"
    },
    {
     "data": {
      "text/plain": [
       "import org.apache.spark.sql.types.DataType\n",
       "import org.apache.spark.sql.types.DataTypes\n",
       "defined class IPAddress\n"
      ]
     },
     "execution_count": 1,
     "metadata": {},
     "output_type": "execute_result"
    }
   ],
   "source": [
    "import org.apache.spark.sql.types.DataType\n",
    "import org.apache.spark.sql.types.DataTypes\n",
    "\n",
    "\n",
    "class IPAddress(addr: String) extends DataType with Equals {\n",
    "    \n",
    "    override def asNullable(): DataType = {\n",
    "        return this;\n",
    "    }\n",
    "    \n",
    "    override def defaultSize(): Int = {\n",
    "        return 1;\n",
    "    }\n",
    "    \n",
    "    override def toString(): String = {\n",
    "        return addr;\n",
    "    }\n",
    "    override def canEqual(that: Any): Boolean = that.isInstanceOf[IPAddress]\n",
    "    \n",
    "    /**\n",
    "     * Taken from:\n",
    "     * https://stackoverflow.com/questions/7370925/what-is-the-standard-idiom-for-implementing-equals-and-hashcode-in-scala\n",
    "     */\n",
    "    //Intentionally avoiding the call to super.equals because no ancestor has overridden equals (see note 7 below)\n",
    "    override def equals(that: Any): Boolean =\n",
    "    that match {\n",
    "      case ipAddr: IPAddress =>\n",
    "        (     (this eq ipAddr)                     //optional, but highly recommended sans very specific knowledge about this exact class implementation\n",
    "          ||  (     ipAddr.canEqual(this)          //optional only if this class is marked final\n",
    "                &&  (hashCode == ipAddr.hashCode)  //optional, exceptionally execution efficient if hashCode is cached, at an obvious space inefficiency tradeoff\n",
    "              )\n",
    "        )\n",
    "      case _ =>\n",
    "        false\n",
    "    }\n",
    "    override def hashCode() = addr.hashCode()\n",
    "}"
   ]
  },
  {
   "cell_type": "code",
   "execution_count": 2,
   "id": "accurate-stations",
   "metadata": {},
   "outputs": [
    {
     "data": {
      "text/plain": [
       "defined class IPSet\n"
      ]
     },
     "execution_count": 2,
     "metadata": {},
     "output_type": "execute_result"
    }
   ],
   "source": [
    "class IPSet(addrs: Array[IPAddress]) {\n",
    "    private var ipSet: Set[IPAddress] = addrs.toSet // map(x => new IPAddress(x)).toSet;\n",
    "    \n",
    "    def get_class() = ipSet.getClass()\n",
    "    \n",
    "    def contains(str: IPAddress): Boolean = ipSet contains str; //new IPAddress(str);\n",
    "}"
   ]
  },
  {
   "cell_type": "code",
   "execution_count": 5,
   "id": "specific-march",
   "metadata": {},
   "outputs": [
    {
     "name": "stdout",
     "output_type": "stream",
     "text": [
      "55965012\n",
      "55965013\n"
     ]
    },
    {
     "data": {
      "text/plain": [
       "ip: IPAddress = 192.168.0.1\n",
       "ip2: IPAddress = 192.168.0.2\n"
      ]
     },
     "execution_count": 5,
     "metadata": {},
     "output_type": "execute_result"
    }
   ],
   "source": [
    "val ip = new IPAddress(\"192.168.0.1\");\n",
    "val ip2 = new IPAddress(\"192.168.0.2\");\n",
    "println(ip.hashCode())\n",
    "println(ip2.hashCode())"
   ]
  },
  {
   "cell_type": "code",
   "execution_count": 6,
   "id": "moved-wales",
   "metadata": {},
   "outputs": [
    {
     "data": {
      "text/plain": [
       "ipSet: IPSet = IPSet@71ed4b7e\n",
       "res3: Boolean = false\n"
      ]
     },
     "execution_count": 6,
     "metadata": {},
     "output_type": "execute_result"
    }
   ],
   "source": [
    "var ipSet = new IPSet(Array(ip))\n",
    "ipSet.contains(ip2)"
   ]
  },
  {
   "cell_type": "code",
   "execution_count": null,
   "id": "turkish-squad",
   "metadata": {},
   "outputs": [],
   "source": []
  }
 ],
 "metadata": {
  "kernelspec": {
   "display_name": "spylon-kernel",
   "language": "scala",
   "name": "spylon-kernel"
  },
  "language_info": {
   "codemirror_mode": "text/x-scala",
   "file_extension": ".scala",
   "help_links": [
    {
     "text": "MetaKernel Magics",
     "url": "https://metakernel.readthedocs.io/en/latest/source/README.html"
    }
   ],
   "mimetype": "text/x-scala",
   "name": "scala",
   "pygments_lexer": "scala",
   "version": "0.4.1"
  },
  "toc": {
   "base_numbering": 1,
   "nav_menu": {},
   "number_sections": true,
   "sideBar": true,
   "skip_h1_title": false,
   "title_cell": "Table of Contents",
   "title_sidebar": "Contents",
   "toc_cell": false,
   "toc_position": {},
   "toc_section_display": true,
   "toc_window_display": false
  },
  "varInspector": {
   "cols": {
    "lenName": 16,
    "lenType": 16,
    "lenVar": 40
   },
   "kernels_config": {
    "python": {
     "delete_cmd_postfix": "",
     "delete_cmd_prefix": "del ",
     "library": "var_list.py",
     "varRefreshCmd": "print(var_dic_list())"
    },
    "r": {
     "delete_cmd_postfix": ") ",
     "delete_cmd_prefix": "rm(",
     "library": "var_list.r",
     "varRefreshCmd": "cat(var_dic_list()) "
    }
   },
   "types_to_exclude": [
    "module",
    "function",
    "builtin_function_or_method",
    "instance",
    "_Feature"
   ],
   "window_display": false
  }
 },
 "nbformat": 4,
 "nbformat_minor": 5
}
